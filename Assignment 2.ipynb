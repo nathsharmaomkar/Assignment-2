{
 "cells": [
  {
   "cell_type": "markdown",
   "id": "d7c54ecf-7704-4df1-b119-d7ad9f4a6474",
   "metadata": {},
   "source": [
    "Q1:How do you comment code in Python? What are the different types of comments?"
   ]
  },
  {
   "cell_type": "markdown",
   "id": "1dfc9647-4cbe-47b8-9727-86150cb47edf",
   "metadata": {},
   "source": [
    "Ans: We can add comment code in python by adding '#' character before starting of the code.\n",
    "There are two types of comments:\n",
    "1.Single Line Comment-include # character before starting of the code\n",
    "2.Multi Line Comment- include ''' characters before and after starting of the code"
   ]
  },
  {
   "cell_type": "markdown",
   "id": "c83a22f4-1770-4472-b883-118cc4480758",
   "metadata": {},
   "source": [
    "Q2:What are variables in Python? How do you declare and assign values to variables?"
   ]
  },
  {
   "cell_type": "markdown",
   "id": "476100bd-19a8-4e53-8d42-b05b7c0a6daa",
   "metadata": {},
   "source": [
    "Ans:The Vaiables in python are used to store a value that is goin to be use in our code.\n",
    "The python is smart enough to understand the data type of the variable automatically. Suppose we are going to declare a variable like 'a=6'. The python automatically finds the data type of this variable as int type. Here 'a' is used as a variable and '=' is used as assignment operator to assingn a value '6' to the variable 'a'."
   ]
  },
  {
   "cell_type": "markdown",
   "id": "5eb80217-d8b8-446a-9f5e-809ed31b4aeb",
   "metadata": {},
   "source": [
    "Q3:How do you convert one data type to another in Python?"
   ]
  },
  {
   "cell_type": "markdown",
   "id": "9dfba8e0-5e18-409f-a639-1676dcbe6925",
   "metadata": {},
   "source": [
    "Ans:We can convert one data type to another in python through typecasting.\n",
    "a. Conversion of int to string:\n",
    "    an integer (6) can be converted into string as-\n",
    "    write a=str(6) and run code output will be a='6'\n",
    "b. Conversion of string('5') into integer as-\n",
    "    a= int('5') and run code output will be a=5"
   ]
  },
  {
   "cell_type": "markdown",
   "id": "734f804a-de1c-4eb7-ba69-46c0c12e995c",
   "metadata": {},
   "source": [
    "Q4: How do you write and execute a Python script from the command line?"
   ]
  },
  {
   "cell_type": "markdown",
   "id": "dc1c5e35-7ae1-4857-8f7d-938b763fddb5",
   "metadata": {},
   "source": [
    "Ans: To execute a python script just open a command-line or terminal and then type in python, or python3 depending on your Python installation, and then hit Enter.\n",
    "Then you can write the code and press Enter to execute that code."
   ]
  },
  {
   "cell_type": "markdown",
   "id": "c026174b-ef2a-495b-a34f-53315ac0d102",
   "metadata": {},
   "source": [
    "Q5:Given a list my_list = [1, 2, 3, 4, 5], write the code to slice the list and obtain the sub-list [2, 3]."
   ]
  },
  {
   "cell_type": "code",
   "execution_count": 1,
   "id": "de2c582c-dbe4-4d7d-b537-652ffc457131",
   "metadata": {},
   "outputs": [
    {
     "data": {
      "text/plain": [
       "[2, 3]"
      ]
     },
     "execution_count": 1,
     "metadata": {},
     "output_type": "execute_result"
    }
   ],
   "source": [
    "my_list = [1, 2, 3, 4, 5]\n",
    "my_list[1:3]"
   ]
  },
  {
   "cell_type": "markdown",
   "id": "81420d59-44b8-4d35-aa41-16e6bbacabff",
   "metadata": {},
   "source": [
    "Q6:What is a complex number in mathematics, and how is it represented in Python?"
   ]
  },
  {
   "cell_type": "markdown",
   "id": "c49dd64f-ac9b-4b04-9b86-b6a29d371ceb",
   "metadata": {},
   "source": [
    "Ans: A number in the form of x+iy is known as complex mumber where x,y are real numbers and i represents the imaginary part called as iota.\n",
    "In Python complex number is represented as x+yj."
   ]
  },
  {
   "cell_type": "code",
   "execution_count": 4,
   "id": "4e1379a3-648d-4a6f-8fbf-fc12dc1523e3",
   "metadata": {},
   "outputs": [
    {
     "name": "stdout",
     "output_type": "stream",
     "text": [
      "<class 'complex'>\n",
      "6.0\n",
      "3.0\n"
     ]
    }
   ],
   "source": [
    "a=6+3j\n",
    "\n",
    "print(type(a))\n",
    "print(a.real)\n",
    "print(a.imag)"
   ]
  },
  {
   "cell_type": "markdown",
   "id": "3cb745ae-39c8-4009-9e10-bbffa9fba5da",
   "metadata": {},
   "source": [
    "Q7:What is the correct way to declare a variable named age and assign the value 25 to it?"
   ]
  },
  {
   "cell_type": "code",
   "execution_count": 5,
   "id": "20e27b0f-9802-4a3c-8423-0164d0e7aa4c",
   "metadata": {},
   "outputs": [
    {
     "name": "stdout",
     "output_type": "stream",
     "text": [
      "25\n"
     ]
    }
   ],
   "source": [
    "age=25\n",
    "\n",
    "print(age)"
   ]
  },
  {
   "cell_type": "markdown",
   "id": "8cc6bf7f-1282-4a68-8f48-e9079b67ecf8",
   "metadata": {},
   "source": [
    "Q8:Declare a variable named price and assign the value 9.99 to it. What data type does this variable\n",
    "belong to?"
   ]
  },
  {
   "cell_type": "markdown",
   "id": "53f61e2d-635f-4901-a5bb-b78b4db87de4",
   "metadata": {},
   "source": [
    "Ans: price variable is having float as a data type"
   ]
  },
  {
   "cell_type": "code",
   "execution_count": 6,
   "id": "d4df0e44-fe10-4cd8-8105-66c41ea08efa",
   "metadata": {},
   "outputs": [
    {
     "name": "stdout",
     "output_type": "stream",
     "text": [
      "9.99\n",
      "<class 'float'>\n"
     ]
    }
   ],
   "source": [
    "price= 9.99\n",
    "\n",
    "print(price)\n",
    "print(type(price))"
   ]
  },
  {
   "cell_type": "markdown",
   "id": "7bfe4a20-785e-44fe-9007-984e4b426086",
   "metadata": {},
   "source": [
    "Q9:Create a variable named name and assign your full name to it as a string. How would you print the\n",
    "value of this variable?"
   ]
  },
  {
   "cell_type": "code",
   "execution_count": 7,
   "id": "24aeae52-241e-4dd5-9c93-4c3b28918c0f",
   "metadata": {},
   "outputs": [
    {
     "name": "stdout",
     "output_type": "stream",
     "text": [
      "Omkar Nath Sharma\n"
     ]
    }
   ],
   "source": [
    "name='Omkar Nath Sharma'\n",
    "\n",
    "print(name)"
   ]
  },
  {
   "cell_type": "markdown",
   "id": "8f470114-7705-4e43-8609-d879792ad7bf",
   "metadata": {},
   "source": [
    "Q10:Given the string \"Hello, World!\", extract the substring \"World\"."
   ]
  },
  {
   "cell_type": "code",
   "execution_count": 9,
   "id": "1a2bfe40-a93b-4824-aa5c-fd7b7631565f",
   "metadata": {},
   "outputs": [
    {
     "data": {
      "text/plain": [
       "'World'"
      ]
     },
     "execution_count": 9,
     "metadata": {},
     "output_type": "execute_result"
    }
   ],
   "source": [
    "s=\"Hello, World!\"\n",
    "s[7:12]"
   ]
  },
  {
   "cell_type": "markdown",
   "id": "04833741-c772-4de3-b3b7-ac3d75860345",
   "metadata": {},
   "source": [
    "Q11.Create a variable named \"is_student\" and assign it a boolean value indicating whether you are\n",
    "currently a student or not."
   ]
  },
  {
   "cell_type": "code",
   "execution_count": 10,
   "id": "4db3c795-e1ae-44fc-83c9-5490f1ff10e8",
   "metadata": {},
   "outputs": [
    {
     "data": {
      "text/plain": [
       "True"
      ]
     },
     "execution_count": 10,
     "metadata": {},
     "output_type": "execute_result"
    }
   ],
   "source": [
    "is_student=True\n",
    "\n",
    "is_student"
   ]
  }
 ],
 "metadata": {
  "kernelspec": {
   "display_name": "Python 3 (ipykernel)",
   "language": "python",
   "name": "python3"
  },
  "language_info": {
   "codemirror_mode": {
    "name": "ipython",
    "version": 3
   },
   "file_extension": ".py",
   "mimetype": "text/x-python",
   "name": "python",
   "nbconvert_exporter": "python",
   "pygments_lexer": "ipython3",
   "version": "3.10.8"
  }
 },
 "nbformat": 4,
 "nbformat_minor": 5
}
